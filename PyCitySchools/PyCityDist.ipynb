{
 "cells": [
  {
   "cell_type": "markdown",
   "metadata": {},
   "source": [
    "# PyCity Schools Analysis"
   ]
  },
  {
   "cell_type": "code",
   "execution_count": 1,
   "metadata": {},
   "outputs": [],
   "source": [
    "# Dependencies and Setup\n",
    "import pandas as pd\n",
    "from pathlib import Path\n",
    "\n",
    "# File to Load (Remember to Change These)\n",
    "school_data_to_load = Path(\"../Resources/schools_complete.csv\")\n",
    "student_data_to_load = Path(\"../Resources/students_complete.csv\")\n",
    "\n",
    "# Read School and Student Data File and store into Pandas DataFrames\n",
    "schools_df = pd.read_csv(school_data_to_load)\n",
    "student_df = pd.read_csv(student_data_to_load)\n",
    "\n",
    "# Combine the data into a single dataset.  \n",
    "data_complete = pd.merge(student_df, schools_df, how=\"outer\", on=[\"school_name\", \"school_name\"])"
   ]
  },
  {
   "cell_type": "markdown",
   "metadata": {},
   "source": [
    "Huang, Figueroa, Shelton, Hernandez, Griffin, Wilson, Cabrera, Bailey, Holden, Pena, Wright, Rodriguez, Johnson, Ford, Thomas\n",
    "\n",
    "There are 15 schools - store in a variable"
   ]
  },
  {
   "cell_type": "code",
   "execution_count": 2,
   "metadata": {},
   "outputs": [],
   "source": [
    "school_count = len(schools_df[\"school_name\"])"
   ]
  },
  {
   "cell_type": "markdown",
   "metadata": {},
   "source": [
    "data_complete[\"Student ID\"].value_counts()\n",
    "data_complete.describe()\n",
    "\n",
    "this shows 39,170 students"
   ]
  },
  {
   "cell_type": "markdown",
   "metadata": {},
   "source": [
    "length of the Student ID column is 39170   same for all columns"
   ]
  },
  {
   "cell_type": "code",
   "execution_count": 3,
   "metadata": {},
   "outputs": [
    {
     "name": "stdout",
     "output_type": "stream",
     "text": [
      "39170\n",
      "32715\n"
     ]
    }
   ],
   "source": [
    "student_count = len(student_df[\"Student ID\"].unique())\n",
    "print(student_count)\n",
    "\n",
    "student_name_count = len(student_df[\"student_name\"].unique())\n",
    "print(student_name_count)"
   ]
  },
  {
   "cell_type": "markdown",
   "metadata": {},
   "source": [
    "there are fewer unique student names than there are student IDs\n",
    "I'm sure that some students have the same name, but this is a big difference"
   ]
  },
  {
   "cell_type": "code",
   "execution_count": 4,
   "metadata": {},
   "outputs": [],
   "source": [
    "data_inner = pd.merge(student_df, schools_df, on=[\"school_name\"])\n"
   ]
  },
  {
   "cell_type": "markdown",
   "metadata": {},
   "source": [
    "get enrollment count at each school from the size column"
   ]
  },
  {
   "cell_type": "code",
   "execution_count": 5,
   "metadata": {},
   "outputs": [
    {
     "name": "stdout",
     "output_type": "stream",
     "text": [
      "[2917 2949 1761 4635 1468 2283 1858 4976  427  962 1800 3999 4761 2739\n",
      " 1635]\n",
      "39170\n"
     ]
    }
   ],
   "source": [
    "enrollments= schools_df[\"size\"].unique()\n",
    "print(enrollments)\n",
    "enrollments_total = enrollments.sum()\n",
    "print(enrollments_total)\n",
    "\n"
   ]
  },
  {
   "cell_type": "markdown",
   "metadata": {},
   "source": [
    "the sum of the individual sizes of the schools is 39170\n",
    "student_count = 39170\n",
    "\n",
    "let's do the same thing for the budget"
   ]
  },
  {
   "cell_type": "code",
   "execution_count": 6,
   "metadata": {},
   "outputs": [
    {
     "name": "stdout",
     "output_type": "stream",
     "text": [
      "[1910635 1884411 1056600 3022020  917500 1319574 1081356 3124928  248087\n",
      "  585858 1049400 2547363 3094650 1763916 1043130]\n",
      "24649428\n"
     ]
    }
   ],
   "source": [
    "budgets_all = schools_df[\"budget\"].unique()\n",
    "print(budgets_all)\n",
    "\n",
    "budgets_total = budgets_all.sum()\n",
    "print(budgets_total)\n"
   ]
  },
  {
   "cell_type": "markdown",
   "metadata": {},
   "source": [
    "There are 15 unique budget values.  This is as expected\n",
    "The total is 24649428 stored in budgets_total\n",
    "\n",
    "for the average math scores, we'll want to look at the merged datafile"
   ]
  },
  {
   "cell_type": "code",
   "execution_count": 7,
   "metadata": {},
   "outputs": [
    {
     "name": "stdout",
     "output_type": "stream",
     "text": [
      "81.87784018381414\n",
      "78.98537145774827\n"
     ]
    }
   ],
   "source": [
    "avg_reading_score = data_complete[\"reading_score\"].mean()\n",
    "print(avg_reading_score)\n",
    "\n",
    "avg_math_score = data_complete[\"math_score\"].mean()\n",
    "print(avg_math_score)"
   ]
  },
  {
   "cell_type": "markdown",
   "metadata": {},
   "source": [
    "overall average math score stored in avg_math_score\n",
    "overall average reading score stored in ave_reading_score"
   ]
  },
  {
   "cell_type": "markdown",
   "metadata": {},
   "source": [
    "Creating a new column for pass or fail math score with 60 and higher being pass and lower being fail\n",
    "and one for reading also"
   ]
  },
  {
   "cell_type": "code",
   "execution_count": 20,
   "metadata": {},
   "outputs": [
    {
     "name": "stdout",
     "output_type": "stream",
     "text": [
      "29370\n",
      "33610\n"
     ]
    }
   ],
   "source": [
    "\n",
    "data_complete[\"math_pass\"] = data_complete[\"math_score\"].apply(lambda x:\"pass\" if x>=70 else \"fail\")\n",
    "\n",
    "data_complete[\"reading_pass\"] = data_complete[\"reading_score\"].apply(lambda x:\"pass\" if x>=70 else \"fail\")\n",
    "\n",
    "math_num_pass = data_complete[\"math_pass\"].value_counts()\n",
    "reading_num_pass = data_complete[\"reading_pass\"].value_counts()\n",
    "\n",
    "dist_num_pass_math = math_num_pass.iloc[0]\n",
    "dist_num_pass_reading = reading_num_pass.iloc[0]\n",
    "\n",
    "\n",
    "print(dist_num_pass_math) \n",
    "print(dist_num_pass_reading)"
   ]
  },
  {
   "cell_type": "markdown",
   "metadata": {},
   "source": [
    "get percents passing\n",
    "math_percent_pass\n",
    "reading_percent_pass\n",
    "overall_percent_pass"
   ]
  },
  {
   "cell_type": "code",
   "execution_count": 22,
   "metadata": {},
   "outputs": [
    {
     "name": "stdout",
     "output_type": "stream",
     "text": [
      "74.9808526933878\n",
      "85.80546336482001\n",
      "65.17232575950983\n"
     ]
    }
   ],
   "source": [
    "math_percent_pass = (dist_num_pass_math / student_count)*100\n",
    "reading_percent_pass = (dist_num_pass_reading / student_count)*100\n",
    "\n",
    "def get_status(row):\n",
    "    if row[\"math_pass\"] == \"pass\" and row[\"reading_pass\"] == \"pass\":\n",
    "        return \"pass\"\n",
    "    else:\n",
    "        return \"fail\"\n",
    "\n",
    "data_complete[\"overall pass\"] = data_complete.apply(lambda row: get_status(row), axis=1)\n",
    "\n",
    "overall_num_pass = data_complete[\"overall pass\"].value_counts()\n",
    "\n",
    "dist_num_pass_overall = overall_num_pass.iloc[0]\n",
    "\n",
    "overall_percent_pass = (dist_num_pass_overall / student_count)*100\n",
    "\n",
    "print(math_percent_pass)\n",
    "print(reading_percent_pass)\n",
    "print(overall_percent_pass)\n"
   ]
  },
  {
   "cell_type": "markdown",
   "metadata": {},
   "source": [
    "Create District Summary Dataframe"
   ]
  },
  {
   "cell_type": "code",
   "execution_count": 23,
   "metadata": {},
   "outputs": [
    {
     "data": {
      "text/html": [
       "<div>\n",
       "<style scoped>\n",
       "    .dataframe tbody tr th:only-of-type {\n",
       "        vertical-align: middle;\n",
       "    }\n",
       "\n",
       "    .dataframe tbody tr th {\n",
       "        vertical-align: top;\n",
       "    }\n",
       "\n",
       "    .dataframe thead th {\n",
       "        text-align: right;\n",
       "    }\n",
       "</style>\n",
       "<table border=\"1\" class=\"dataframe\">\n",
       "  <thead>\n",
       "    <tr style=\"text-align: right;\">\n",
       "      <th></th>\n",
       "      <th>Total Schools</th>\n",
       "      <th>Total Students</th>\n",
       "      <th>Total Budget</th>\n",
       "      <th>Average Math Score</th>\n",
       "      <th>Average Reading Score</th>\n",
       "      <th>% Passing Math</th>\n",
       "      <th>% Passing Reading</th>\n",
       "      <th>% Overall Passing</th>\n",
       "    </tr>\n",
       "  </thead>\n",
       "  <tbody>\n",
       "    <tr>\n",
       "      <th>0</th>\n",
       "      <td>15</td>\n",
       "      <td>39,170</td>\n",
       "      <td>$24,649,428.00</td>\n",
       "      <td>78.985371</td>\n",
       "      <td>81.87784</td>\n",
       "      <td>74.980853</td>\n",
       "      <td>85.805463</td>\n",
       "      <td>65.172326</td>\n",
       "    </tr>\n",
       "  </tbody>\n",
       "</table>\n",
       "</div>"
      ],
      "text/plain": [
       "   Total Schools Total Students    Total Budget  Average Math Score  \\\n",
       "0             15         39,170  $24,649,428.00           78.985371   \n",
       "\n",
       "   Average Reading Score  % Passing Math  % Passing Reading  % Overall Passing  \n",
       "0               81.87784       74.980853          85.805463          65.172326  "
      ]
     },
     "execution_count": 23,
     "metadata": {},
     "output_type": "execute_result"
    }
   ],
   "source": [
    "district_summary = pd.DataFrame([{\"Total Schools\":school_count,\"Total Students\":student_count,\n",
    "                                  \"Total Budget\":budgets_total,\"Average Math Score\": avg_math_score,\n",
    "                                  \"Average Reading Score\":avg_reading_score,\"% Passing Math\":math_percent_pass,\n",
    "                                  \"% Passing Reading\":reading_percent_pass,\"% Overall Passing\":overall_percent_pass}])\n",
    "\n",
    "district_summary[\"Total Students\"] = district_summary[\"Total Students\"].map(\"{:,}\".format)\n",
    "district_summary[\"Total Budget\"] = district_summary[\"Total Budget\"].map(\"${:,.2f}\".format)\n",
    "\n",
    "district_summary"
   ]
  }
 ],
 "metadata": {
  "kernelspec": {
   "display_name": "Golden Scenario Env",
   "language": "python",
   "name": "golden_scenario_env"
  },
  "language_info": {
   "codemirror_mode": {
    "name": "ipython",
    "version": 3
   },
   "file_extension": ".py",
   "mimetype": "text/x-python",
   "name": "python",
   "nbconvert_exporter": "python",
   "pygments_lexer": "ipython3",
   "version": "3.11.5"
  }
 },
 "nbformat": 4,
 "nbformat_minor": 2
}
